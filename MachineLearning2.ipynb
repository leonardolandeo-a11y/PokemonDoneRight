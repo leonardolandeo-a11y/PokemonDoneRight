{
 "cells": [
  {
   "cell_type": "code",
   "execution_count": null,
   "id": "ec4796ee",
   "metadata": {},
   "outputs": [],
   "source": [
    "from MachineLearningProject2 import Pokemon[\"moves\"]\n",
    "Pokemon[\"moves\"]"
   ]
  },
  {
   "cell_type": "code",
   "execution_count": null,
   "id": "3f7eecc5",
   "metadata": {},
   "outputs": [],
   "source": []
  },
  {
   "cell_type": "code",
   "execution_count": null,
   "id": "e223cd23",
   "metadata": {},
   "outputs": [],
   "source": []
  }
 ],
 "metadata": {
  "kernelspec": {
   "display_name": "Python 3",
   "language": "python",
   "name": "python3"
  },
  "language_info": {
   "name": "python",
   "version": "3.13.7"
  }
 },
 "nbformat": 4,
 "nbformat_minor": 5
}
